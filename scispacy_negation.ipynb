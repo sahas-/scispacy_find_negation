{
  "nbformat": 4,
  "nbformat_minor": 0,
  "metadata": {
    "colab": {
      "name": "scispacy_negation.ipynb",
      "provenance": [],
      "private_outputs": true,
      "collapsed_sections": [],
      "include_colab_link": true
    },
    "kernelspec": {
      "name": "python3",
      "display_name": "Python 3"
    },
    "accelerator": "GPU"
  },
  "cells": [
    {
      "cell_type": "markdown",
      "metadata": {
        "id": "view-in-github",
        "colab_type": "text"
      },
      "source": [
        "<a href=\"https://colab.research.google.com/github/sahas-/scispacy_find_negation/blob/master/scispacy_negation.ipynb\" target=\"_parent\"><img src=\"https://colab.research.google.com/assets/colab-badge.svg\" alt=\"Open In Colab\"/></a>"
      ]
    },
    {
      "cell_type": "code",
      "metadata": {
        "id": "bI8s64wLikL4",
        "colab_type": "code",
        "colab": {}
      },
      "source": [
        "!pip install scispacy spacy negspacy\n",
        "!pip install https://s3-us-west-2.amazonaws.com/ai2-s2-scispacy/releases/v0.2.4/en_core_sci_md-0.2.4.tar.gz"
      ],
      "execution_count": 0,
      "outputs": []
    },
    {
      "cell_type": "code",
      "metadata": {
        "id": "858V_sltX2wg",
        "colab_type": "code",
        "colab": {}
      },
      "source": [
        "import en_core_sci_md\n",
        "from negspacy.negation import Negex"
      ],
      "execution_count": 0,
      "outputs": []
    },
    {
      "cell_type": "code",
      "metadata": {
        "id": "LF8aWrZspslq",
        "colab_type": "code",
        "colab": {}
      },
      "source": [
        "nlp = en_core_sci_md.load()"
      ],
      "execution_count": 0,
      "outputs": []
    },
    {
      "cell_type": "code",
      "metadata": {
        "id": "1WJ2bo2ZYKAX",
        "colab_type": "code",
        "colab": {}
      },
      "source": [
        "negex = Negex(nlp, chunk_prefix = [\"no\",\"without\",\"not\"])\n",
        "nlp.add_pipe(negex)"
      ],
      "execution_count": 0,
      "outputs": []
    },
    {
      "cell_type": "code",
      "metadata": {
        "id": "MXHCkvpkYKTT",
        "colab_type": "code",
        "colab": {}
      },
      "source": [
        "doc = nlp(\"midline low back pain with no bilateral sciatica\")\n",
        "for e in doc.ents:\n",
        "    print(\"{!r} has negation - {!r}\".format(e.text, e._.negex))"
      ],
      "execution_count": 0,
      "outputs": []
    },
    {
      "cell_type": "code",
      "metadata": {
        "id": "LDQ3wlZnuyhp",
        "colab_type": "code",
        "colab": {}
      },
      "source": [
        ""
      ],
      "execution_count": 0,
      "outputs": []
    }
  ]
}